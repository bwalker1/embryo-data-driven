{
 "cells": [
  {
   "cell_type": "code",
   "execution_count": 1,
   "metadata": {},
   "outputs": [],
   "source": [
    "import os\n",
    "import numpy as np\n",
    "import pandas as pd\n",
    "import scipy as sp\n",
    "from sklearn.decomposition import PCA\n",
    "from sklearn.cluster import KMeans\n",
    "\n",
    "import matplotlib.pyplot as plt"
   ]
  },
  {
   "cell_type": "markdown",
   "metadata": {},
   "source": [
    "# Process qPCR data (32-cell and 64-cell stages)"
   ]
  },
  {
   "cell_type": "code",
   "execution_count": 2,
   "metadata": {},
   "outputs": [],
   "source": [
    "df_Q = pd.read_csv('./scData/qPCR_original.csv', sep=',', index_col=0)"
   ]
  },
  {
   "cell_type": "markdown",
   "metadata": {},
   "source": [
    "#### Read in data and do clustering for both 64-cell stage and 32-cell stage data\n",
    "The assignment of ICM cells were done following the original publication.\n",
    "[Guoji Guo, et al., Developmental Cell, 2010]"
   ]
  },
  {
   "cell_type": "code",
   "execution_count": 3,
   "metadata": {},
   "outputs": [],
   "source": [
    "cname_Q = list( df_Q.index )\n",
    "gname_Q = list( df_Q.columns.values )\n",
    "for i in range(len(gname_Q)):\n",
    "    if gname_Q[i] == 'Pou5f1':\n",
    "        gname_Q[i] = 'Oct4'\n",
    "mat_Q = np.asarray( df_Q.values, float )\n",
    "mat_Q = 28.0 - mat_Q; mat_Q[np.where(mat_Q < 0)[0]] = 0.0;\n",
    "endo_control = (0.5 * ( mat_Q[:,gname_Q.index(\"Actb\")] + mat_Q[:,gname_Q.index(\"Gapdh\")] )).reshape(-1,1)\n",
    "mat_Q = mat_Q - endo_control\n",
    "tmp_ind = np.array([i for i in range(len(gname_Q)) if not gname_Q[i] in [\"Actb\",\"Gapdh\"]],int)\n",
    "mat_Q = mat_Q[:,tmp_ind]"
   ]
  },
  {
   "cell_type": "code",
   "execution_count": 4,
   "metadata": {},
   "outputs": [],
   "source": [
    "cind_Q_64C_all = []\n",
    "for i in range(len(cname_Q)):\n",
    "    tmp_sname,_ = cname_Q[i].split(' ')\n",
    "    if tmp_sname == '64C': cind_Q_64C_all.append(i)\n",
    "cind_Q_64C_all = np.asarray(cind_Q_64C_all, int)\n",
    "mat_Q_64C_all = mat_Q[cind_Q_64C_all,:]\n",
    "mat_Q_64C_all_mean = np.mean(mat_Q_64C_all, axis=0)\n",
    "tmp_mat = mat_Q_64C_all - mat_Q_64C_all_mean.reshape(1,-1)"
   ]
  },
  {
   "cell_type": "code",
   "execution_count": 5,
   "metadata": {},
   "outputs": [
    {
     "data": {
      "image/png": "[encoded data removed]",
      "text/plain": [
       "<Figure size 432x288 with 1 Axes>"
      ]
     },
     "metadata": {
      "needs_background": "light"
     },
     "output_type": "display_data"
    }
   ],
   "source": [
    "pca = PCA(n_components=2, svd_solver='full')\n",
    "pca.fit(tmp_mat)\n",
    "pm = pca.transform(tmp_mat)\n",
    "plt.plot(pm[:,0],pm[:,1], 'bo')\n",
    "plt.axis('equal'); plt.title('Dimension reduction by PCA on 64C cells')\n",
    "plt.show()"
   ]
  },
  {
   "cell_type": "code",
   "execution_count": 6,
   "metadata": {},
   "outputs": [
    {
     "name": "stdout",
     "output_type": "stream",
     "text": [
      "63 ICM cells at 64C\n"
     ]
    }
   ],
   "source": [
    "ctyp_Q = {}\n",
    "cnt = 0\n",
    "for i in range(pm.shape[0]):\n",
    "    if pm[i,0] >= 10:\n",
    "        ctyp_Q[cind_Q_64C_all[i]] = \"ICM\"\n",
    "        cnt += 1\n",
    "    else:\n",
    "        ctyp_Q[cind_Q_64C_all[i]] = \"TE\"\n",
    "print(cnt, \"ICM cells at 64C\")"
   ]
  },
  {
   "cell_type": "code",
   "execution_count": 7,
   "metadata": {},
   "outputs": [
    {
     "data": {
      "image/png": "[encoded data removed]",
      "text/plain": [
       "<Figure size 432x288 with 1 Axes>"
      ]
     },
     "metadata": {
      "needs_background": "light"
     },
     "output_type": "display_data"
    }
   ],
   "source": [
    "cind_Q_32C_all = []\n",
    "for i in range(len(cname_Q)):\n",
    "    tmp_sname,_ = cname_Q[i].split(' ')\n",
    "    if tmp_sname == '32C': cind_Q_32C_all.append(i)\n",
    "cind_Q_32C_all = np.asarray(cind_Q_32C_all, int)\n",
    "mat_Q_normalized = mat_Q - mat_Q_64C_all_mean.reshape(1,-1)\n",
    "tmp_mat = mat_Q_normalized[cind_Q_32C_all,:]\n",
    "pm = pca.transform(tmp_mat)\n",
    "plt.plot(pm[:,0],pm[:,1], 'bo')\n",
    "plt.title('Plot of 32C cells under PCA learned from the 64C cells')\n",
    "plt.show()"
   ]
  },
  {
   "cell_type": "code",
   "execution_count": 8,
   "metadata": {},
   "outputs": [
    {
     "name": "stdout",
     "output_type": "stream",
     "text": [
      "52 ICM cells at 32C\n"
     ]
    }
   ],
   "source": [
    "cnt = 0\n",
    "for i in range(pm.shape[0]):\n",
    "    if pm[i,0] >= 10:\n",
    "        cnt += 1\n",
    "        ctyp_Q[cind_Q_32C_all[i]] = \"ICM\"\n",
    "    else:\n",
    "        ctyp_Q[cind_Q_32C_all[i]] = \"TE\"\n",
    "print(cnt, \"ICM cells at 32C\")"
   ]
  },
  {
   "cell_type": "code",
   "execution_count": 9,
   "metadata": {},
   "outputs": [],
   "source": [
    "sname = '64C'; eid = 1; cind_Q_64C = []\n",
    "for i in range(len(cname_Q)):\n",
    "    name = cname_Q[i]\n",
    "    tmp_sname, tmp_cname = name.split(' ');\n",
    "    if tmp_sname == sname:\n",
    "        tmp_eid,_ = tmp_cname.split('.')\n",
    "        if int(tmp_eid) == eid: \n",
    "            if ctyp_Q[i] != 'TE':\n",
    "                cind_Q_64C.append(i)\n",
    "outfile = open('../input_data/Q_C64E'+str(eid)+'.txt','w')\n",
    "outfile.write('CellName,CellID\\n')\n",
    "for i in range(len(cind_Q_64C)):\n",
    "    outfile.write(cname_Q[cind_Q_64C[i]]+\",\"+str(cind_Q_64C[i]))\n",
    "    outfile.write('\\n')\n",
    "outfile.close()"
   ]
  },
  {
   "cell_type": "markdown",
   "metadata": {},
   "source": [
    "# Process scRNAseq data (E4.5)"
   ]
  },
  {
   "cell_type": "markdown",
   "metadata": {},
   "source": [
    "## First download the scRNA-seq data from GEO database with the accession code: GSE100597."
   ]
  },
  {
   "cell_type": "code",
   "execution_count": 10,
   "metadata": {},
   "outputs": [],
   "source": [
    "stage = 'E4.5'"
   ]
  },
  {
   "cell_type": "code",
   "execution_count": 11,
   "metadata": {},
   "outputs": [],
   "source": [
    "df_G = pd.read_csv('./scData/GSE100597_count_table_QC_filtered.txt', sep=\"\\t\") # This is the downloaded scRNA-seq data.\n",
    "cname_G = list( df_G.columns.values[1:] )\n",
    "gname_G = list( df_G.values[:,0] )\n",
    "mat_G = np.asarray( df_G.values[:,1:], float )\n",
    "for i in range(len(gname_G)):\n",
    "    if gname_G[i][:6] == 'Pou5f1':\n",
    "        gname_G[i] = 'Oct4'"
   ]
  },
  {
   "cell_type": "code",
   "execution_count": 12,
   "metadata": {},
   "outputs": [],
   "source": [
    "iembryo = 4\n",
    "embryo = \"embryo\"+str(iembryo)\n",
    "cind = []\n",
    "for i in range(len(cname_G)):\n",
    "    if cname_G[i][:4] == stage:\n",
    "        _,_,_,tmp,_ = cname_G[i].split('_')\n",
    "        if tmp == embryo:\n",
    "            cind.append(i)\n",
    "cind = np.asarray(cind)\n",
    "outfile = open('../input_data/G_'+stage+'Em'+str(iembryo)+'.txt','w')\n",
    "outfile.write('CellName,CellID\\n')\n",
    "for i in range(len(cind)):\n",
    "    outfile.write(cname_G[cind[i]]+\",\"+str(cind[i]))\n",
    "    outfile.write('\\n')\n",
    "outfile.close()"
   ]
  },
  {
   "cell_type": "markdown",
   "metadata": {},
   "source": [
    "# Mapping and trajectories between stages"
   ]
  },
  {
   "cell_type": "code",
   "execution_count": 13,
   "metadata": {},
   "outputs": [],
   "source": [
    "from umap import UMAP\n",
    "from sklearn.manifold import SpectralEmbedding, Isomap, TSNE, spectral_embedding\n",
    "import networkx as nx\n",
    "from scipy.optimize import linear_sum_assignment\n",
    "import pickle\n",
    "from scipy.stats import spearmanr\n",
    "from scipy.spatial import distance_matrix"
   ]
  },
  {
   "cell_type": "code",
   "execution_count": 14,
   "metadata": {},
   "outputs": [],
   "source": [
    "def graph_knn(pts, k = 10, cut = np.inf, draw = False):\n",
    "    # Assymetric knn graph\n",
    "    A_knn = kneighbors_graph(pts, n_neighbors=k, mode='connectivity')\n",
    "    # Make it symetric\n",
    "    A_knn_sym = ((A_knn + A_knn.T).astype(bool)).astype(int)\n",
    "    # Apply the cutoff\n",
    "    if not np.isinf(cut):\n",
    "        A_rn = radius_neighbors_graph(pts, radius=cut, mode='connectivity')\n",
    "        A_knn_sym = A_knn_sym.multiply(A_rn)\n",
    "    # Plot the graph\n",
    "    if draw:\n",
    "        G = nx.from_scipy_sparse_matrix(A_knn_sym)\n",
    "        pts_list = list(pts)\n",
    "        n_node = len(pts_list)\n",
    "        pos_dict = {i:pts_list[i] for i in range(n_node)}\n",
    "        nx.draw_networkx(G, pos=pos_dict, with_labels=False, node_size=10, node_color='dimgrey', edge_color='darkgrey')\n",
    "        plt.axis('equal'); plt.axis('off'); plt.show()\n",
    "\n",
    "    return A_knn_sym\n",
    "\n",
    "def knn(D, k, estimate_cutoff=True):\n",
    "    A = np.zeros_like(D)\n",
    "    for i in range(D.shape[0]):\n",
    "        A[i,np.argsort(D[i,:])[1:k+1]] = 1.0\n",
    "    A_sym = ((A+A.T).astype(bool)).astype(int)\n",
    "    if estimate_cutoff:\n",
    "        cut_est = np.sum(A_sym * D)/np.sum(A_sym)\n",
    "        A_sym[np.where(D>cut_est)] = 0.0\n",
    "    return A_sym\n",
    "\n",
    "def compute_pairwise_scc(X1, X2):\n",
    "    X1 = X1.argsort(axis=1).argsort(axis=1)\n",
    "    X2 = X2.argsort(axis=1).argsort(axis=1)\n",
    "    X1 = (X1-X1.mean(axis=1, keepdims=True))/X1.std(axis=1, keepdims=True)\n",
    "    X2 = (X2-X2.mean(axis=1, keepdims=True))/X2.std(axis=1, keepdims=True)\n",
    "    sccmat = np.empty([X1.shape[0], X2.shape[0]], float)\n",
    "    for i in range(X1.shape[0]):\n",
    "        for j in range(X2.shape[0]):\n",
    "            c = np.dot( X1[i,:], X2[j,:]) / float(X1.shape[1])\n",
    "            sccmat[i,j] = c\n",
    "    return sccmat\n",
    "\n",
    "def preprocess_expression(X, min_pos=10, n_top=None, log_normalize=False, scale=False):\n",
    "    X_bin = (X.astype(bool)).astype(float)\n",
    "    print(X_bin.shape)\n",
    "    cnt = np.sum(X_bin, axis=0)\n",
    "    ind = np.where(cnt >= min_pos)[0]\n",
    "    X = X[:,ind]\n",
    "\n",
    "    if log_normalize:\n",
    "        X = np.log(X+1.0)\n",
    "    X_std = np.std(X, axis=0)\n",
    "    X_ave = np.mean(X, axis=0)\n",
    "    if scale:\n",
    "        X_scaled = np.empty_like(X)\n",
    "        for i in range(X.shape[1]):\n",
    "            X_scaled[:,i] = ( X[:,i] - X_ave[i] ) / X_std[i]\n",
    "        X = X_scaled\n",
    "    if not n_top is None:\n",
    "        fano = np.zeros([len(X_std)])\n",
    "        for i in range(len(X_std)):\n",
    "            if X_ave[i] > 0.0:\n",
    "                fano[i] = X_ave[i] / X_std[i]\n",
    "        ind = np.argsort(-fano)[:n_top]\n",
    "        X = X[:,ind]\n",
    "    print(X.shape)\n",
    "    return X"
   ]
  },
  {
   "cell_type": "code",
   "execution_count": 15,
   "metadata": {},
   "outputs": [],
   "source": [
    "df_G = pd.read_csv('./scData/GSE100597_count_table_QC_filtered.txt', sep=\"\\t\", index_col=0).T\n",
    "df_Q = pd.read_csv('./scData/qPCR_original.csv', sep=',', index_col=0)"
   ]
  },
  {
   "cell_type": "code",
   "execution_count": 16,
   "metadata": {},
   "outputs": [
    {
     "name": "stdout",
     "output_type": "stream",
     "text": [
      "There are 40 in the two datasets.\n"
     ]
    }
   ],
   "source": [
    "# Get the list of common genes across the datasets\n",
    "cname_Q = list( df_Q.index )\n",
    "gname_Q = list( df_Q.columns.values )\n",
    "mat_Q = np.asarray( df_Q.values[:,:], float )\n",
    "mat_Q = 28.0 - mat_Q; mat_Q[np.where(mat_Q < 0)[0]] = 0.0\n",
    "# remove the two house keeping genes\n",
    "tmp_ind = np.array([i for i in range(len(gname_Q)) if not gname_Q[i] in [\"Actb\",\"Gapdh\"]],int)\n",
    "mat_Q = mat_Q[:,tmp_ind]\n",
    "gname_Q = [g for g in gname_Q if not g in [\"Actb\",\"Gapdh\"]]\n",
    "\n",
    "cname_G = list( df_G.index )\n",
    "gname_G = list( df_G.columns.values )\n",
    "mat_G = np.asarray( df_G.values, float )\n",
    "mat_G = np.log(1+mat_G)\n",
    "\n",
    "gind_G = []\n",
    "gind_Q = []\n",
    "for i in range(len(gname_Q)):\n",
    "    for j in range(len(gname_G)):\n",
    "        if gname_Q[i] == gname_G[j][:len(gname_Q[i])] and gname_G[j][len(gname_Q[i])] == '_':\n",
    "            gind_Q.append(i)\n",
    "            gind_G.append(j)\n",
    "gind_Q = np.asarray(gind_Q)\n",
    "gind_G = np.asarray(gind_G)\n",
    "common_genes = [gname_Q[i] for i in gind_Q]\n",
    "print(\"There are\", len(common_genes), \"in the two datasets.\")"
   ]
  },
  {
   "cell_type": "code",
   "execution_count": 17,
   "metadata": {},
   "outputs": [],
   "source": [
    "# The cell id for E4.5 cells in scRNA-seq data\n",
    "cind_G_E45 = []\n",
    "for i in range(len(cname_G)):\n",
    "    if cname_G[i][:4] == 'E4.5':\n",
    "        cind_G_E45.append(i)\n",
    "cind_G_E45 = np.asarray(cind_G_E45, int)"
   ]
  },
  {
   "cell_type": "code",
   "execution_count": 18,
   "metadata": {},
   "outputs": [],
   "source": [
    "# The cell id for 32C and 64C cells\n",
    "cind_Q_64C_ICM = []\n",
    "for i in cind_Q_64C_all:\n",
    "    if ctyp_Q[i] == \"ICM\":\n",
    "        cind_Q_64C_ICM.append(i)\n",
    "cind_Q_64C_ICM = np.asarray(cind_Q_64C_ICM, int)\n",
    "cind_Q_32C_ICM = []\n",
    "for i in cind_Q_32C_all:\n",
    "    if ctyp_Q[i] == \"ICM\":\n",
    "        cind_Q_32C_ICM.append(i)\n",
    "cind_Q_32C_ICM = np.asarray(cind_Q_32C_ICM, int)\n",
    "cind_Q_32C_64C_ICM = np.concatenate((cind_Q_32C_ICM, cind_Q_64C_ICM), axis=0)"
   ]
  },
  {
   "cell_type": "code",
   "execution_count": 19,
   "metadata": {},
   "outputs": [
    {
     "name": "stdout",
     "output_type": "stream",
     "text": [
      "52 63 105\n"
     ]
    }
   ],
   "source": [
    "# Gather some matrices for connection\n",
    "mat_Q_32C_64C_ICM_allgene = mat_Q[cind_Q_32C_64C_ICM,:]\n",
    "mat_Q_32C_64C_ICM_commongene = mat_Q[cind_Q_32C_64C_ICM,:][:,gind_Q]\n",
    "mat_G_E45_allgene = mat_G[cind_G_E45,:]\n",
    "mat_G_E45_commongene = mat_G[cind_G_E45,:][:,gind_G]\n",
    "mat_total = np.concatenate((mat_Q_32C_64C_ICM_commongene, mat_G_E45_commongene), axis=0)\n",
    "print(len(cind_Q_32C_ICM), len(cind_Q_64C_ICM), len(cind_G_E45))\n",
    "nc_total = len(cind_Q_32C_ICM)+len(cind_Q_64C_ICM)+len(cind_G_E45)"
   ]
  },
  {
   "cell_type": "code",
   "execution_count": 20,
   "metadata": {},
   "outputs": [
    {
     "name": "stdout",
     "output_type": "stream",
     "text": [
      "823\n"
     ]
    }
   ],
   "source": [
    "# correlation within qPCR data\n",
    "cor_Q = compute_pairwise_scc(mat_Q_32C_64C_ICM_allgene, mat_Q_32C_64C_ICM_allgene)\n",
    "A_Q = knn(np.exp(-cor_Q), 5, estimate_cutoff=False)\n",
    "D_Q = np.exp(-cor_Q)\n",
    "D_Q = (D_Q-D_Q.min())/(D_Q.max()-D_Q.min())\n",
    "print(np.sum(A_Q))"
   ]
  },
  {
   "cell_type": "code",
   "execution_count": 21,
   "metadata": {},
   "outputs": [
    {
     "name": "stdout",
     "output_type": "stream",
     "text": [
      "(105, 24483)\n",
      "(105, 3000)\n",
      "830\n"
     ]
    }
   ],
   "source": [
    "# correlation within scRNA-seq data\n",
    "mat_G_E45_processed = preprocess_expression(mat_G_E45_allgene, min_pos=3, n_top=3000, log_normalize=False, scale=False)\n",
    "mat_G_E45_pca = PCA(n_components=30, svd_solver='full').fit_transform(mat_G_E45_processed)\n",
    "D_G = distance_matrix(mat_G_E45_pca, mat_G_E45_pca)\n",
    "D_G = D_G/D_G.max()\n",
    "A_G = knn(D_G, 5, estimate_cutoff=False)\n",
    "print(np.sum(A_G))"
   ]
  },
  {
   "cell_type": "code",
   "execution_count": 22,
   "metadata": {},
   "outputs": [
    {
     "data": {
      "text/plain": [
       "[<matplotlib.lines.Line2D at 0x1ed56ca2ba8>]"
      ]
     },
     "execution_count": 22,
     "metadata": {},
     "output_type": "execute_result"
    },
    {
     "data": {
      "image/png": "[encoded data removed]",
      "text/plain": [
       "<Figure size 432x288 with 1 Axes>"
      ]
     },
     "metadata": {
      "needs_background": "light"
     },
     "output_type": "display_data"
    }
   ],
   "source": [
    "# correlation between qPCR and scRNA-seq data\n",
    "cor_QG = compute_pairwise_scc(mat_Q_32C_64C_ICM_commongene, mat_G_E45_commongene)\n",
    "D_QG = np.exp(-cor_QG)\n",
    "D_QG = (D_QG-D_QG.min())/(D_QG.max()-D_QG.min())\n",
    "plt.plot(cor_QG.max(axis=1), 'bo')"
   ]
  },
  {
   "cell_type": "code",
   "execution_count": 23,
   "metadata": {},
   "outputs": [],
   "source": [
    "A_total = np.zeros([nc_total, nc_total])\n",
    "A_total[:A_Q.shape[0], :A_Q.shape[0]] = A_Q[:,:]\n",
    "A_total[A_Q.shape[0]:, A_Q.shape[0]:] = A_G[:,:]\n",
    "for i in range(cor_QG.shape[0]):\n",
    "    for j in range(cor_QG.shape[1]):\n",
    "        if cor_QG[i,j] > 0.7:\n",
    "            A_total[i,j+cor_QG.shape[0]] = 1.0\n",
    "\n",
    "cname_total = []\n",
    "for i in cind_Q_32C_ICM:\n",
    "    cname_total.append(cname_Q[i])\n",
    "for i in cind_Q_64C_ICM:\n",
    "    cname_total.append(cname_Q[i])\n",
    "for i in cind_G_E45:\n",
    "    cname_total.append(cname_G[i])\n",
    "\n",
    "D_total = np.zeros([nc_total, nc_total])\n",
    "D_total[:A_Q.shape[0], :A_Q.shape[0]] = D_Q[:,:]\n",
    "D_total[A_Q.shape[0]:, A_Q.shape[0]:] = D_G[:,:]\n",
    "D_total[:A_Q.shape[0], A_Q.shape[0]:] = D_QG[:,:]\n",
    "D_total[A_Q.shape[0]:, :A_Q.shape[0]] = D_QG.T[:,:]"
   ]
  },
  {
   "cell_type": "code",
   "execution_count": 30,
   "metadata": {},
   "outputs": [
    {
     "name": "stdout",
     "output_type": "stream",
     "text": [
      "[[0. 0. 0. ... 0. 0. 0.]\n",
      " [0. 0. 0. ... 0. 0. 0.]\n",
      " [0. 0. 0. ... 0. 0. 0.]\n",
      " ...\n",
      " [0. 0. 0. ... 0. 1. 1.]\n",
      " [0. 0. 0. ... 1. 0. 1.]\n",
      " [0. 0. 0. ... 1. 1. 0.]]\n"
     ]
    },
    {
     "name": "stderr",
     "output_type": "stream",
     "text": [
      "h:\\github\\embryo-data-driven\\venv\\lib\\site-packages\\sklearn\\utils\\validation.py:63: UserWarning: Array is not symmetric, and will be converted to symmetric by average with its transpose.\n",
      "  return f(*args, **kwargs)\n"
     ]
    },
    {
     "data": {
      "image/png": "[encoded data removed]",
      "text/plain": [
       "<Figure size 432x288 with 1 Axes>"
      ]
     },
     "metadata": {
      "needs_background": "light"
     },
     "output_type": "display_data"
    }
   ],
   "source": [
    "print(A_total)\n",
    "X = spectral_embedding(A_total, n_components=2)\n",
    "plt.scatter(X[:52,0], X[:52,1], c=\"C0\")\n",
    "plt.scatter(X[52:115,0], X[52:115,1], c=\"C1\")\n",
    "plt.scatter(X[115:,0], X[115:,1], c=\"C3\")\n",
    "plt.axis(\"off\")\n",
    "plt.savefig(\"../result_analysis/figures/seq_traj.png\", dpi=300)\n",
    "os.system(\"convert -trim ../result_analysis/figures/seq_traj.png ../result_analysis/figures/seq_traj.png\")\n",
    "plt.show()"
   ]
  },
  {
   "cell_type": "code",
   "execution_count": 25,
   "metadata": {},
   "outputs": [],
   "source": [
    "# Construct a graph for the entire trajectory\n",
    "G = nx.Graph()\n",
    "G.add_nodes_from(cname_total)\n",
    "for i in range(A_total.shape[0]-1):\n",
    "    for j in range(i+1,A_total.shape[0]):\n",
    "        if A_total[i,j] == 1.0:\n",
    "            G.add_edge(cname_total[i], cname_total[j], distance=D_total[i,j])"
   ]
  },
  {
   "cell_type": "code",
   "execution_count": 34,
   "metadata": {},
   "outputs": [
    {
     "name": "stderr",
     "output_type": "stream",
     "text": [
      "h:\\github\\embryo-data-driven\\venv\\lib\\site-packages\\ipykernel_launcher.py:15: RuntimeWarning: invalid value encountered in true_divide\n",
      "  from ipykernel import kernelapp as app\n"
     ]
    },
    {
     "data": {
      "image/png": "[encoded data removed]",
      "text/plain": [
       "<Figure size 432x288 with 1 Axes>"
      ]
     },
     "metadata": {
      "needs_background": "light"
     },
     "output_type": "display_data"
    }
   ],
   "source": [
    "# Get a common normalized matrix for the cells\n",
    "mat_total_normalized = np.empty_like(mat_total)\n",
    "q = 0.99\n",
    "for i in range(len(common_genes)):\n",
    "    if np.quantile(mat_Q_32C_64C_ICM_commongene[:,i], q) == 0.0:\n",
    "        tmp_Q = np.max(mat_Q_32C_64C_ICM_commongene[:,i])\n",
    "    else:\n",
    "        tmp_Q = np.quantile(mat_Q_32C_64C_ICM_commongene[:,i], q)\n",
    "    if np.quantile(mat_G_E45_commongene[:,i], q) == 0.0:\n",
    "        tmp_G = np.max(mat_G_E45_commongene[:,i])\n",
    "    else:\n",
    "        tmp_G = np.quantile(mat_G_E45_commongene[:,i], q)\n",
    "    \n",
    "    mat_total_normalized[:len(cind_Q_32C_64C_ICM),i] = mat_Q_32C_64C_ICM_commongene[:,i]/tmp_Q\n",
    "    mat_total_normalized[len(cind_Q_32C_64C_ICM):,i] = mat_G_E45_commongene[:,i]/tmp_G\n",
    "plt.scatter(mat_total_normalized[:52, common_genes.index(\"Nanog\")], mat_total_normalized[:52, common_genes.index(\"Gata6\")], c='r')\n",
    "plt.scatter(mat_total_normalized[52:115, common_genes.index(\"Nanog\")], mat_total_normalized[52:115, common_genes.index(\"Gata6\")], c='y')\n",
    "plt.scatter(mat_total_normalized[115:, common_genes.index(\"Nanog\")], mat_total_normalized[115:, common_genes.index(\"Gata6\")], c='b')\n",
    "plt.show()"
   ]
  },
  {
   "cell_type": "code",
   "execution_count": 27,
   "metadata": {},
   "outputs": [],
   "source": [
    "def generate_dev_map(name_st, name_ed, G, max_decendent=2, k=3):\n",
    "    df_st = pd.read_csv(\"../input_data/\"+name_st+\".txt\", sep=\",\")\n",
    "    cname_st = list(df_st[\"CellName\"])\n",
    "    df_ed = pd.read_csv(\"../input_data/\"+name_ed+\".txt\", sep=\",\")\n",
    "    cname_ed = list(df_ed[\"CellName\"])\n",
    "    print(\"mapping\", len(cname_st),\"cells to\", len(cname_ed), \"cells\")\n",
    "    # Compute pairwise distance between cells using shortest path\n",
    "    Dis = np.zeros([len(cname_st), len(cname_ed)], float)\n",
    "    for i in range(Dis.shape[0]):\n",
    "        for j in range(Dis.shape[1]):\n",
    "            d = nx.shortest_path_length(G, cname_st[i], cname_ed[j], weight=\"distance\")\n",
    "            Dis[i,j] = d\n",
    "    # Set up the cost for the ot problem\n",
    "    cost = Dis\n",
    "    for i in range(max_decendent-1):\n",
    "        cost = np.concatenate((cost, Dis), axis=0)\n",
    "    cost = np.transpose(cost)\n",
    "    # Get the optimal pairing by linear_sum assignment\n",
    "    # (allowing at most 1 to max_decendent mapping)\n",
    "    row_ind, col_ind = linear_sum_assignment(cost)\n",
    "    # Output the mapping of cells\n",
    "    outfile = open(\"../input_data/devmap_\"+name_st+\"-\"+name_ed+\".txt\", \"w\")\n",
    "    # Output the trajectory of key genes\n",
    "    outfile1 = open(\"../input_data/devmappath_\"+name_st+\"-\"+name_ed+\".pkl\", \"wb\")\n",
    "    \n",
    "    gene_traj_list = []\n",
    "    pair_list = []\n",
    "    # Assign the ones that got paired\n",
    "    for i in range(len(row_ind)):\n",
    "        start = col_ind[i]%len(cname_st); end = row_ind[i]\n",
    "        path = nx.shortest_path(G, cname_st[start], cname_ed[end], weight=\"distance\")\n",
    "        pair_list.append([col_ind[i]%len(cname_st), row_ind[i]])\n",
    "        gene_traj = np.empty([mat_total_normalized.shape[1],0], float)\n",
    "        for j in path:\n",
    "            tmp_gene = np.zeros([mat_total_normalized.shape[1],1], float)\n",
    "            if j == path[0] or j == path[-1]:\n",
    "                tmp_gene[:,0] = mat_total_normalized[cname_total.index(j),:]\n",
    "            else:\n",
    "                tmp_knn = sorted(G[j].items(), key=lambda e: e[1][\"distance\"], reverse=False)[:k]\n",
    "                cnt = 0.0\n",
    "                for nb in tmp_knn:\n",
    "                    tmp_gene[:,0] = tmp_gene[:,0] + mat_total_normalized[cname_total.index(nb[0]),:]\n",
    "                    cnt += 1.0\n",
    "                tmp_gene[:,0] = tmp_gene[:,0] / cnt\n",
    "            gene_traj = np.concatenate((gene_traj, tmp_gene), axis=1)\n",
    "        gene_traj_list.append(gene_traj)\n",
    "    for i in range(len(cname_ed)):\n",
    "        if not i in row_ind:\n",
    "            pair_list.append([-1,i])\n",
    "            gene_traj_list.append(mat_total_normalized[cname_total.index(cname_ed[i]),:].reshape(-1,1))\n",
    "    for i in range(len(pair_list)):\n",
    "        if pair_list[i][0] == -1:\n",
    "            outfile.write(\"NoCell,\"+cname_ed[pair_list[i][1]]+\"\\n\")\n",
    "        else:\n",
    "            outfile.write(cname_st[pair_list[i][0]]+\",\"+cname_ed[pair_list[i][1]]+\"\\n\")\n",
    "    pickle.dump(gene_traj_list, outfile1)"
   ]
  },
  {
   "cell_type": "code",
   "execution_count": 28,
   "metadata": {},
   "outputs": [
    {
     "name": "stdout",
     "output_type": "stream",
     "text": [
      "mapping 17 cells to 34 cells\n"
     ]
    }
   ],
   "source": [
    "generate_dev_map(\"Q_C64E1\", \"G_E4.5Em4\", G)"
   ]
  },
  {
   "cell_type": "code",
   "execution_count": 29,
   "metadata": {},
   "outputs": [
    {
     "name": "stdout",
     "output_type": "stream",
     "text": [
      "[ 3 16 26 28]\n"
     ]
    },
    {
     "data": {
      "image/png": "[encoded data removed]",
      "text/plain": [
       "<Figure size 432x288 with 1 Axes>"
      ]
     },
     "metadata": {
      "needs_background": "light"
     },
     "output_type": "display_data"
    }
   ],
   "source": [
    "ninterval = 11\n",
    "nc = 34\n",
    "\n",
    "infile = open(\"../input_data/devmappath_Q_C64E1-G_E4.5Em4.pkl\", \"rb\")\n",
    "seq_path = pickle.load(infile)\n",
    "common_genes = list( np.loadtxt(\"../input_data/common_genes.txt\", dtype=str) )\n",
    "seq_path_interp = np.empty([ninterval+1, nc, len(common_genes)])\n",
    "x = np.arange(ninterval+1)/float(ninterval)\n",
    "for ig in range(len(common_genes)):\n",
    "    for ic in range(nc):\n",
    "        tmp_gene = seq_path[ic][ig,:]\n",
    "        seq_path_interp[:,ic, ig] = np.interp(x, np.arange(len(tmp_gene))/(len(tmp_gene)-1), tmp_gene)\n",
    "NG_start = seq_path_interp[0,:,np.array([common_genes.index(\"Nanog\"), common_genes.index(\"Gata6\")], int)].T\n",
    "NG_end = seq_path_interp[-1,:,np.array([common_genes.index(\"Nanog\"), common_genes.index(\"Gata6\")], int)].T\n",
    "\n",
    "ind_start_epi = np.where(NG_start[:,0] > NG_start[:,1])[0]\n",
    "ind_end_pe = np.where(NG_end[:,0] < NG_end[:,1])[0]\n",
    "ind_end_epi = np.where(NG_end[:,0] > NG_end[:,1])[0]\n",
    "\n",
    "ind_cells_epi_to_pe = np.intersect1d(ind_end_pe, ind_start_epi)\n",
    "ind_cells_other = np.array([i for i in range(34) if not i in ind_cells_epi_to_pe], int)\n",
    "\n",
    "plt.plot(np.mean(seq_path_interp[:,ind_cells_epi_to_pe,common_genes.index(\"Nanog\")], axis=1), '-o', color=\"darkgoldenrod\")\n",
    "plt.plot(np.mean(seq_path_interp[:,ind_cells_epi_to_pe,common_genes.index(\"Gata6\")], axis=1), '--o', color=\"darkgoldenrod\")\n",
    "plt.plot(np.mean(seq_path_interp[:,ind_end_epi,common_genes.index(\"Nanog\")], axis=1), '-o', color=(178/255,11/255,43/255))\n",
    "plt.plot(np.mean(seq_path_interp[:,ind_end_epi,common_genes.index(\"Gata6\")], axis=1), '--o', color=(178/255,11/255,43/255))\n",
    "plt.ylim([-0.1,1])\n",
    "\n",
    "print(ind_cells_epi_to_pe)"
   ]
  }
 ],
 "metadata": {
  "kernelspec": {
   "display_name": "embryo-venv",
   "language": "python",
   "name": "embryo-venv"
  },
  "language_info": {
   "codemirror_mode": {
    "name": "ipython",
    "version": 3
   },
   "file_extension": ".py",
   "mimetype": "text/x-python",
   "name": "python",
   "nbconvert_exporter": "python",
   "pygments_lexer": "ipython3",
   "version": "3.7.0"
  }
 },
 "nbformat": 4,
 "nbformat_minor": 4
}
